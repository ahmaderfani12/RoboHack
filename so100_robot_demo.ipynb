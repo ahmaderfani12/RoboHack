{
  "cells": [
    {
      "cell_type": "code",
      "execution_count": 1,
      "id": "f3d42505",
      "metadata": {},
      "outputs": [],
      "source": [
        "%reload_ext autoreload\n",
        "%autoreload 2"
      ]
    },
    {
      "cell_type": "markdown",
      "id": "da7457ca",
      "metadata": {},
      "source": [
        "# SO-100 Robot Control Demo\n",
        "\n",
        "This notebook demonstrates how to drive the SO-100 arm using the `SO100RobotClient`.\n",
        "Only control endpoints are covered; AI control endpoints are intentionally omitted."
      ]
    },
    {
      "cell_type": "markdown",
      "id": "28138eea",
      "metadata": {},
      "source": [
        "## Requirements\n",
        "\n",
        "- A running instance of the robot control server (defaults to `http://localhost:8000`).\n",
        "- Network connectivity between this notebook and the server.\n",
        "- Physical access to the robot if you plan to execute motion commands. Ensure it is safe to move before running the cells below."
      ]
    },
    {
      "cell_type": "code",
      "execution_count": 43,
      "id": "4cbaeeb4",
      "metadata": {},
      "outputs": [
        {
          "data": {
            "text/plain": [
              "<so100_robot.SO100RobotClient at 0x702986c10b90>"
            ]
          },
          "execution_count": 43,
          "metadata": {},
          "output_type": "execute_result"
        }
      ],
      "source": [
        "from so100_robot import SO100RobotClient\n",
        "\n",
        "BASE_URL = \"http://localhost:80\"  # Update if your server runs elsewhere\n",
        "ROBOT_ID = 0  # Replace with the target robot id\n",
        "\n",
        "robot = SO100RobotClient(BASE_URL, robot_id=ROBOT_ID)\n",
        "robot"
      ]
    },
    {
      "cell_type": "markdown",
      "id": "7cc7335e",
      "metadata": {},
      "source": [
        "## Verify Server Status\n",
        "\n",
        "Confirm that the API is reachable before issuing motion commands."
      ]
    },
    {
      "cell_type": "code",
      "execution_count": 423,
      "id": "7662bd3a",
      "metadata": {},
      "outputs": [
        {
          "data": {
            "text/plain": [
              "{'status': 'ok',\n",
              " 'name': 'Alireza',\n",
              " 'robots': ['so-100'],\n",
              " 'robot_status': [{'name': 'so-100',\n",
              "   'robot_type': 'manipulator',\n",
              "   'device_name': '5A46085878',\n",
              "   'temperature': [{'current': 25.0, 'max': 70.0},\n",
              "    {'current': 33.0, 'max': 70.0},\n",
              "    {'current': 30.0, 'max': 70.0},\n",
              "    {'current': 25.0, 'max': 70.0},\n",
              "    {'current': 25.0, 'max': 70.0},\n",
              "    {'current': 31.0, 'max': 70.0}]}],\n",
              " 'cameras': {'cameras_status': [{'camera_id': 0,\n",
              "    'is_active': True,\n",
              "    'camera_type': 'classic',\n",
              "    'width': 640,\n",
              "    'height': 360,\n",
              "    'fps': 30}],\n",
              "  'is_stereo_camera_available': False,\n",
              "  'realsense_available': False,\n",
              "  'video_cameras_ids': [0]},\n",
              " 'version_id': '0.3.134',\n",
              " 'is_recording': False,\n",
              " 'ai_running_status': 'stopped',\n",
              " 'leader_follower_status': False,\n",
              " 'server_ip': '10.156.69.24',\n",
              " 'server_port': 80}"
            ]
          },
          "execution_count": 423,
          "metadata": {},
          "output_type": "execute_result"
        }
      ],
      "source": [
        "robot.request(\"GET\", \"/status\")"
      ]
    },
    {
      "cell_type": "markdown",
      "id": "d63fbb65",
      "metadata": {},
      "source": [
        "## Initialize the Robot\n",
        "\n",
        "Moves the arm to the default starting pose, which is required before other move commands."
      ]
    },
    {
      "cell_type": "code",
      "execution_count": 463,
      "id": "51d21f2f",
      "metadata": {},
      "outputs": [
        {
          "data": {
            "text/plain": [
              "{'status': 'ok', 'message': None}"
            ]
          },
          "execution_count": 463,
          "metadata": {},
          "output_type": "execute_result"
        }
      ],
      "source": [
        "robot.initialize()"
      ]
    },
    {
      "cell_type": "markdown",
      "id": "cddad37a",
      "metadata": {},
      "source": [
        "## Absolute Move\n",
        "\n",
        "Command the end-effector to go to a position and orientation expressed in centimeters and degrees."
      ]
    },
    {
      "cell_type": "code",
      "execution_count": 184,
      "id": "5e4f7e5f",
      "metadata": {},
      "outputs": [
        {
          "data": {
            "text/plain": [
              "{'x': 0.6539881229400635,\n",
              " 'y': 0.10558032989501953,\n",
              " 'z': -0.1002882868051529,\n",
              " 'rx': 271.62395962687475,\n",
              " 'ry': -31.75834837226449,\n",
              " 'rz': 105.80806200792257,\n",
              " 'open': 0.5}"
            ]
          },
          "execution_count": 184,
          "metadata": {},
          "output_type": "execute_result"
        }
      ],
      "source": [
        "state = robot.read_end_effector(0)\n",
        "state"
      ]
    },
    {
      "cell_type": "code",
      "execution_count": 50,
      "id": "ad9039a7",
      "metadata": {},
      "outputs": [
        {
          "data": {
            "text/plain": [
              "{'status': 'ok', 'message': None}"
            ]
          },
          "execution_count": 50,
          "metadata": {},
          "output_type": "execute_result"
        }
      ],
      "source": [
        "robot.move_absolute(\n",
        "    x= 8.01367461681366,\n",
        "    y= -9.313225746154785e-10,\n",
        "    z= -0.05518127977848053,\n",
        "    rx= 0.1694453776592496,\n",
        "    ry= 0.000008277720443196744,\n",
        "    rz= -0.00026973307779949333,\n",
        "    open= 0,\n",
        "    angle_unit=\"rad\",  # set to \"rad\" when supplying radians\n",
        ")\n"
      ]
    },
    {
      "cell_type": "code",
      "execution_count": 187,
      "id": "569412e7",
      "metadata": {},
      "outputs": [
        {
          "data": {
            "text/plain": [
              "[{'status': 'ok', 'message': None}]"
            ]
          },
          "execution_count": 187,
          "metadata": {},
          "output_type": "execute_result"
        }
      ],
      "source": [
        "robot.move_absolute(\n",
        "  table=[{\n",
        "    'x': 0.6539881229400635,\n",
        " 'y': 0.10558032989501953,\n",
        " 'z': -0.1002882868051529,\n",
        " 'rx': 271.62395962687475,\n",
        " 'ry': -31.75834837226449,\n",
        " 'rz': 105.80806200792257,}],\n",
        "  angle_unit=\"degrees\",  # set to \"rad\" when supplying radians\n",
        ")"
      ]
    },
    {
      "cell_type": "markdown",
      "id": "7369e1e2",
      "metadata": {},
      "source": [
        "## Batch Absolute Moves\n",
        "\n",
        "Pass a list of dictionaries to call `move_absolute` sequentially. Values provided\n",
        "above the table act as defaults for any missing keys."
      ]
    },
    {
      "cell_type": "code",
      "execution_count": 53,
      "id": "2fdf275b",
      "metadata": {},
      "outputs": [
        {
          "data": {
            "text/plain": [
              "[{'status': 'ok', 'message': None}, {'status': 'ok', 'message': None}]"
            ]
          },
          "execution_count": 53,
          "metadata": {},
          "output_type": "execute_result"
        }
      ],
      "source": [
        "robot.move_absolute(\n",
        "    table=[\n",
        "        {\"x\": 25, \"z\": 15, \"open\": 1},\n",
        "        {\"x\": 20, \"z\": 20, \"open\": 0},\n",
        "    ],\n",
        "    angle_unit=\"degrees\",\n",
        ")\n"
      ]
    },
    {
      "cell_type": "markdown",
      "id": "47f72081",
      "metadata": {},
      "source": [
        "## Relative Move\n",
        "\n",
        "Apply deltas to the current end-effector pose. Useful for jogging the arm."
      ]
    },
    {
      "cell_type": "code",
      "execution_count": 54,
      "id": "f3a71847",
      "metadata": {},
      "outputs": [
        {
          "data": {
            "text/plain": [
              "{'status': 'ok', 'message': None}"
            ]
          },
          "execution_count": 54,
          "metadata": {},
          "output_type": "execute_result"
        }
      ],
      "source": [
        "robot.move_relative(z=5, open=0)"
      ]
    },
    {
      "cell_type": "markdown",
      "id": "148d3004",
      "metadata": {},
      "source": [
        "## Teleoperation Frame\n",
        "\n",
        "Send a single MetaQuest-style frame. Repeated calls can be used to stream joystick-style input."
      ]
    },
    {
      "cell_type": "code",
      "execution_count": 56,
      "id": "fab7abb9",
      "metadata": {},
      "outputs": [
        {
          "data": {
            "text/plain": [
              "{'status': 'ok', 'message': None}"
            ]
          },
          "execution_count": 56,
          "metadata": {},
          "output_type": "execute_result"
        }
      ],
      "source": [
        "robot.teleop_control(\n",
        "    x=25,\n",
        "    y=5,\n",
        "    z=12,\n",
        "    rx=10,\n",
        "    ry=0,\n",
        "    rz=0,\n",
        "    open=0.5,\n",
        "    direction_x=0.0,\n",
        "    direction_y=0.0,\n",
        "    angle_unit=\"degrees\",  # switch to \"rad\" if providing radians\n",
        ")\n"
      ]
    },
    {
      "cell_type": "markdown",
      "id": "bbe73d03",
      "metadata": {},
      "source": [
        "## Inspect Joint State\n",
        "\n",
        "Retrieve the current joint angles reported by the controller."
      ]
    },
    {
      "cell_type": "code",
      "execution_count": 195,
      "id": "aec1c854",
      "metadata": {},
      "outputs": [
        {
          "data": {
            "text/plain": [
              "{'angles': [0.3390925403874697,\n",
              "  0.7395592962296851,\n",
              "  -0.6474979730475666,\n",
              "  1.2857898137769215,\n",
              "  1.4821873032321076,\n",
              "  0.17338215865965648],\n",
              " 'unit': 'rad'}"
            ]
          },
          "execution_count": 195,
          "metadata": {},
          "output_type": "execute_result"
        }
      ],
      "source": [
        "joints = robot.read_joints(unit=\"rad\")  # switch to \"rad\" or \"motor_units\" as needed\n",
        "joints"
      ]
    },
    {
      "cell_type": "markdown",
      "id": "0f638165",
      "metadata": {},
      "source": [
        "## Write Joint Targets\n",
        "\n",
        "Set joint angles directly. Adjust the angle list to match your robot's configuration."
      ]
    },
    {
      "cell_type": "code",
      "execution_count": null,
      "id": "9f867291",
      "metadata": {},
      "outputs": [],
      "source": [
        "import math\n",
        "\n",
        "LIMIT = math.pi/2  # joint limits [-pi/2, pi/2]\n",
        "\n",
        "def ik(x, y, z, a1, a2, *, last_drop=0.0, shoulder_z=0.0,\n",
        "         degrees=False, tol=1e-9):\n",
        "    \"\"\"\n",
        "    Frame: +y forward, +x left, +z up. Base at z=0.\n",
        "    Inputs:\n",
        "      x,y = target TCP XY\n",
        "      z   = target TCP Z (use your table height here)\n",
        "      a1  = shoulder->elbow length\n",
        "      a2  = elbow->wrist length\n",
        "      last_drop = fixed length of locked last link pointing toward -z when the first two links are along +y\n",
        "      shoulder_z = shoulder axis height above base (0 if base at z=0)\n",
        "    Joint mapping (your convention):\n",
        "      θ1 = atan2(x,y)\n",
        "      θ2 = π/2 - θs         (θs = shoulder from +y)\n",
        "      θ3 = ψ - π/2          (ψ = elbow internal angle, 0 when straight)\n",
        "    All joints constrained to [-π/2, π/2].\n",
        "    \"\"\"\n",
        "    def saturate(a): return max(-LIMIT, min(LIMIT, a))\n",
        "\n",
        "    # Yaw\n",
        "    t1_raw = math.atan2(x, y)\n",
        "    t1 = saturate(t1_raw)\n",
        "\n",
        "    # Project target into the chosen yaw plane\n",
        "    cy, sy = math.cos(t1), math.sin(t1)\n",
        "    r = x*sy + y*cy                # horizontal distance along yaw\n",
        "    zp = z - shoulder_z            # height from shoulder\n",
        "\n",
        "    def solve_planar(rr, zz, elbow_sign):\n",
        "        d = math.hypot(rr, zz)\n",
        "        c = (d*d - a1*a1 - a2*a2) / (2*a1*a2)\n",
        "        if c < -1.0000001 or c > 1.0000001:\n",
        "            return None\n",
        "        c = max(-1.0, min(1.0, c))\n",
        "        s = math.sqrt(max(0.0, 1.0 - c*c))\n",
        "        if elbow_sign < 0: s = -s\n",
        "        ψ = math.atan2(s, c)\n",
        "        φ = math.atan2(zz, rr)\n",
        "        β = math.atan2(a2*s, a1 + a2*c)\n",
        "        θs = φ - β\n",
        "        return θs, ψ\n",
        "\n",
        "    def solve_with_drop(elbow_sign):\n",
        "        # iterate once to account for last_drop direction depending on θs\n",
        "        res = solve_planar(r, zp, elbow_sign)\n",
        "        if res is None: return None\n",
        "        θs, ψ = res\n",
        "        for _ in range(2):\n",
        "            # locked last link direction in plane: (-sin θs, -cos θs)\n",
        "            vr, vz = -math.sin(θs), -math.cos(θs)\n",
        "            rw = r - last_drop*vr\n",
        "            zw = zp - last_drop*vz\n",
        "            res2 = solve_planar(rw, zw, elbow_sign)\n",
        "            if res2 is None: return None\n",
        "            θs2, ψ2 = res2\n",
        "            if abs(θs2-θs) < tol and abs(ψ2-ψ) < tol:\n",
        "                θs, ψ = θs2, ψ2\n",
        "                break\n",
        "            θs, ψ = θs2, ψ2\n",
        "        # Map to your joints\n",
        "        t2 = math.pi/2 - θs\n",
        "        t3 = ψ - math.pi/2\n",
        "        return t2, t3\n",
        "\n",
        "    # try both elbow branches\n",
        "    candidates = []\n",
        "    for sign in (+1, -1):\n",
        "        res = solve_with_drop(sign)\n",
        "        if res:\n",
        "            t2, t3 = res\n",
        "            candidates.append((t1, t2, t3))\n",
        "\n",
        "    # pick in-limits first, else closest after clamping\n",
        "    for sol in candidates:\n",
        "        if all(-LIMIT <= a <= LIMIT for a in sol):\n",
        "            return tuple(a*180/math.pi for a in sol) if degrees else sol\n",
        "\n",
        "    if candidates:\n",
        "        best = min(candidates,\n",
        "                   key=lambda s: sum(abs(saturate(a)-a) for a in s))\n",
        "        best = tuple(saturate(a) for a in best)\n",
        "        return tuple(a*180/math.pi for a in best) if degrees else best\n",
        "\n",
        "    raise ValueError(\"Unreachable with given geometry and table height.\")"
      ]
    },
    {
      "cell_type": "code",
      "execution_count": 513,
      "id": "fa879a81",
      "metadata": {},
      "outputs": [],
      "source": [
        "a1 = 0.15\n",
        "a2 = 0.15\n",
        "last_drop = -0.18"
      ]
    },
    {
      "cell_type": "code",
      "execution_count": null,
      "id": "2894b442",
      "metadata": {},
      "outputs": [
        {
          "name": "stdout",
          "output_type": "stream",
          "text": [
            "(45.0, 56.77652338136277, -90.0)\n"
          ]
        }
      ],
      "source": [
        "print(ik(0.05, 0.05, 0, a1, a2, last_drop=last_drop, degrees=True))"
      ]
    },
    {
      "cell_type": "code",
      "execution_count": 515,
      "id": "b7f9259f",
      "metadata": {},
      "outputs": [
        {
          "data": {
            "text/plain": [
              "{'status': 'ok', 'message': None}"
            ]
          },
          "execution_count": 515,
          "metadata": {},
          "output_type": "execute_result"
        }
      ],
      "source": [
        "robot.initialize()"
      ]
    },
    {
      "cell_type": "code",
      "execution_count": null,
      "id": "30924c00",
      "metadata": {},
      "outputs": [
        {
          "data": {
            "text/plain": [
              "{'status': 'ok', 'message': None}"
            ]
          },
          "execution_count": 521,
          "metadata": {},
          "output_type": "execute_result"
        }
      ],
      "source": [
        "# Yes\n",
        "robot.write_joints(\n",
        "    angles=  [*ik(0, 0.2, 0, a1, a2, last_drop=last_drop),\n",
        "  -math.pi/2,#1.2857898137769215,\n",
        "  0, #math.pi/2,#1.4821873032321076,\n",
        "  0.],\n",
        "    unit=\"rad\",\n",
        ")"
      ]
    },
    {
      "cell_type": "code",
      "execution_count": 58,
      "id": "299f3fb9",
      "metadata": {},
      "outputs": [
        {
          "data": {
            "text/plain": [
              "{'status': 'ok', 'message': None}"
            ]
          },
          "execution_count": 58,
          "metadata": {},
          "output_type": "execute_result"
        }
      ],
      "source": [
        "robot.write_joints(\n",
        "    angles=[0.0 for _ in joints.get(\"angles\", [])],\n",
        "    unit=\"rad\",\n",
        ")"
      ]
    },
    {
      "cell_type": "code",
      "execution_count": 131,
      "id": "fdae44fe",
      "metadata": {},
      "outputs": [
        {
          "data": {
            "text/plain": [
              "{'status': 'ok', 'message': None}"
            ]
          },
          "execution_count": 131,
          "metadata": {},
          "output_type": "execute_result"
        }
      ],
      "source": [
        "robot.write_joints(\n",
        "    angles=[0.25,\n",
        "  0.0889926124093812,\n",
        "  0.26,\n",
        "  0.7840556024343758,\n",
        "  1.5707963268,\n",
        "  0.],\n",
        "    unit=\"rad\",\n",
        ")"
      ]
    },
    {
      "cell_type": "markdown",
      "metadata": {},
      "source": [
        "## Cleanup\n",
        "\n",
        "Return the arm to a safe pose or disable torque when finishing a session."
      ]
    },
    {
      "cell_type": "code",
      "execution_count": null,
      "metadata": {},
      "outputs": [],
      "source": [
        "robot.sleep()\n",
        "# robot.toggle_torque(False)  # Uncomment to disable torque explicitly"
      ]
    }
  ],
  "metadata": {
    "kernelspec": {
      "display_name": "search",
      "language": "python",
      "name": "python3"
    },
    "language_info": {
      "codemirror_mode": {
        "name": "ipython",
        "version": 3
      },
      "file_extension": ".py",
      "mimetype": "text/x-python",
      "name": "python",
      "nbconvert_exporter": "python",
      "pygments_lexer": "ipython3",
      "version": "3.11.8"
    }
  },
  "nbformat": 4,
  "nbformat_minor": 5
}
